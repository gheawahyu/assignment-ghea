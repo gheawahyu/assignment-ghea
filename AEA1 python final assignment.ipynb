{
 "cells": [
  {
   "cell_type": "markdown",
   "metadata": {},
   "source": [
    "# FDI in East China\n",
    "_Huijian Wu(1256200)_<br/>               _Ghea Wahyu Puspita(1264626)_<br/>"
   ]
  },
  {
   "cell_type": "markdown",
   "metadata": {},
   "source": [
    "### Content\n",
    "<font size=4>1) <b id = 'i1'>[Research Question](#b1)<br/>\n",
    "\n",
    "2) <b id = 'i2'>[Introduction](#b2)<br/>\n",
    "\n",
    "3) <b id = 'i3'>[Empirical Model](#b3)<br/>\n",
    "\n",
    "4) <b id = 'i4'>[Results](#b4)<br/>\n",
    "\n",
    "5) <b id = 'i5'>[Conclusion](#b5)<br/>\n",
    "\n",
    "6) <b id = 'i6'>[References](#b6)</font><br/>"
   ]
  },
  {
   "cell_type": "markdown",
   "metadata": {},
   "source": [
    "### <b id ='b1'> Research Question<br/>\n",
    "<font size=4>What are the influence factors of _foreign direct investment_ ( **FDI** ) inflows in East China？</font>"
   ]
  },
  {
   "cell_type": "markdown",
   "metadata": {},
   "source": [
    "### <b id ='b2'> Introduction\n",
    "After the reform and opening-up policy was carried out in 1979, the national economic system in China transmitted from a planned economy to market-oriented economy. Before, there was almost no FDI. However, by the end of 2008, the accumulated FDI inflows were up to 1099.8 billion US dollars, and the annual average growth rate was 20.3%. China has already surpassed the USA and become the largest recipient of FDI. However, most of the attracted FDI has flown into East China. By the end of 2008, the accumulated FDI inflow(1979 - 2008) in China was amount to 1099.8 billion dollars, 81.09% of which were concentrated in East China. East China is the coastal region. It is always the primary gathering place of FDI, thanks to the first implementation of opening-up policy, better social and economic foundation, more stable market economy, and excellent geographical location. Furthermore, in the year of 2008, the economy size of eastern part was the largest, accounting for 58% of the gross domestic product (GDP).<br/>\n",
    "\n",
    "In this study, we will discover the key influencing factors of FDI inflows in East China, which is the most developed region in China.<br/>\n",
    "\n",
    "In 1986, the seventh Five-Year Plan from the Sixth National People's Congress divided 31 provinces in Mainland China into three parts, eastern part, middle part and western part. Thereinto, the east part includes 11 provinces --- Beijing, Tianjin, Hebei, Liaoning, Shanghai, Jiangsu, Fujian, Shandong, Guangdong, Hainan, and Zhejiang.<br/>\n",
    "The following figure is the map of China, in which the most prominent blue part is West China, the red part is Central China, and the green part is East China.\n",
    "<img src=\"chinamap.png\">"
   ]
  },
  {
   "cell_type": "markdown",
   "metadata": {},
   "source": [
    "### <b id ='b3'> Empirical Model\n",
    "On the basis of existing research findings and the actual situation of FDI in China, five influencing factors are selected in this study. We will study these influencing factors of attracted FDI into East China.<br/>\n",
    "#### 1. Data Sources\n",
    "\n",
    "All the data used here is from \"Chinese Statistical Yearbook from 1949 - 2008\", \"Chinese International Trade Statistical Yearbook\". The total volume of foreign trade is converted to RMB by the annual exchange rate of RMB (1987 - 2008) against US dollar. Besides, we adopt the amount of foreign capital utilized in this study.<br/>\n",
    "\n",
    "In the beginning years of reform and opening up, the total amount of FDI inflows was limited, in light of this, only data during 1987 - 2008 will be chosen. <br/>\n",
    "#### 2. Explanatory Variables\n",
    "\n",
    "In this study, after weighing data availability and reliability, the following explanatory variables will be chosen:<br/>\n",
    "1） **Expenditure**, the government expenditure<br/>\n",
    "By the end of 2008, the government procurement has a significant impact on multinational enterprises(MNEs). On the one hand, some governments usually prefer purchasing from domestic manufacturers. One likely reason is to protect local infant industries but creating low competition environment for MNEs. On the other hand, the government spending includes various aspects, such as facilities, medical services, social security, education, national defence, and environmental protection, etc. We have no reason to believe that government spending will hinder economic growth and FDI inflows. Especially for some poverty-stricken areas, the government spending is a must. <br/>\n",
    "So, we do not make any expectations on this variable. <br/><br/>\n",
    "2） **Thirdrate**, the ratio of tertiary industry output to the output of all industries<br/>\n",
    "This variable reflects the level of the service industry, as well as the degree of modernization. The research literature did not cover the impact of tertiary sector on FDI inflows very well, most of the existing literature discusses the other direction --- FDI inflows will improve the tertiary industry's proportion. <br/>\n",
    "Here, we expect that tertiary industry is positively correlated with FDI. <br/><br/>\n",
    "3） **SErate**, the ratio of the output of state-owned enterprises(SOEs) to gross output value of all businesses, measuring marketization level in one region<br/>\n",
    "A mature market mechanism can help MNEs reduce investment risks, information costs, and costs caused by government intervention. But a high proportion of SOEs in one region will distort market mechanism, adverse to fair competition (Huang,2006)<sup>1</sup>.<br/>\n",
    "Due to the difficulty of measuring the marketization level in one area, most of the scholars use SErate, which can roughly show the development of market economy in one country or region. <br/>\n",
    "Here, we expect SErate is negatively correlated with FDI inflows. <br/><br/>\n",
    "4） **FA**, referring to the total investment in fixed assets. <br/>\n",
    "Here it is used as a proxy for infrastructure level in one region. Impeccable infrastructure is necessary for one country or region to attract FDI(Dunning, 1977)<sup>2</sup>, as infrastructure in one area reflects the convenience degree of operating business, obtaining information and raw materials, transportation of finished goods, etc. For going into production smoothly, foreign investors need those infrastructures which are indispensable for industrial activities, such transportation, telecommunication, hydroelectricity etc. But they cannot construct these facilities themselves; local government need to prepare well for them. <br/>\n",
    "The effect of this factor has already been confirmed in many studies, here we expected there is a strongly positive correlation between FA and FDI inflows. <br/><br/>\n",
    "5） **Wage**, measurement of labor cost.<br/>\n",
    "It is widely believed that lower labor cost is one of the advantages of for developing countries to attract FDI, and there should be a negative relationship between each other(Ymawaki,1991)<sup>3</sup>. However, some existing research is not consistent with this belief. And some show that wage and FDI are positively correlated(Coughlin,1991)<sup>4</sup>. An explanation for this is that labor cost is an indirect measurement of labor force quality. Higher labor cost is an implication of better labor quality, which is favored by MNEs.In some other studies, scholars find that wage level will not affect the appeal of this region to FDI(Broadman et al., 1997)<sup>5</sup>.<br/>\n",
    "So, in this study, we do not make any expectations on this variable. <br/><br/>\n",
    "#### 3. Model\n",
    "\n",
    "The model we build in this study is as follows:<br/>$$Log(FDI)=\\beta_0 + \\beta_1 Log(Expenditure_t) + \\beta_2 Log(Thirdrate_t) + \\beta_3 Log(SErate_t) + \\beta_4 Log(FA_t) + \\beta_5 log(Wage_t) + \\epsilon_t$$\n",
    "\n",
    "Where,<br/>\n",
    "$Expenditure_t$: government expenditure<br/>\n",
    "$Thirdrate_t$: output of tertiary industry / gross output of all industries<br/>\n",
    "$SErate_t$: output of state owned enterprises / total output of all enterprises<br/>\n",
    "$FA_t$: infrastructure level<br/>\n",
    "$Wage_t$: average wage level<br/>\n",
    "$epsilon_t$: error term"
   ]
  },
  {
   "cell_type": "markdown",
   "metadata": {},
   "source": [
    "<font size =4>Import Libraries</font>"
   ]
  },
  {
   "cell_type": "code",
   "execution_count": 2,
   "metadata": {},
   "outputs": [
    {
     "name": "stderr",
     "output_type": "stream",
     "text": [
      "/Users/hwu/anaconda3/lib/python3.6/site-packages/statsmodels/compat/pandas.py:56: FutureWarning: The pandas.core.datetools module is deprecated and will be removed in a future version. Please use the pandas.tseries module instead.\n",
      "  from pandas.core import datetools\n"
     ]
    }
   ],
   "source": [
    "import math\n",
    "import numpy as np\n",
    "import pandas as pd\n",
    "import matplotlib.pyplot as plt\n",
    "%matplotlib inline\n",
    "from linearmodels import PanelOLS\n",
    "import statsmodels.api as sm\n",
    "import numpy as np\n",
    "import pandas as pd\n",
    "import statsmodels.api as sm\n",
    "from pandas import Series\n",
    "from pandas import read_csv\n",
    "from matplotlib import pyplot\n",
    "from math import log\n",
    "from statsmodels.formula.api import ols\n",
    "import plotly.plotly as py\n",
    "import plotly.graph_objs as go\n",
    "import matplotlib.pyplot as plt\n",
    "from PIL import Image\n",
    "%matplotlib inline"
   ]
  },
  {
   "cell_type": "markdown",
   "metadata": {},
   "source": [
    "#### 4. Statistical Description"
   ]
  },
  {
   "cell_type": "markdown",
   "metadata": {},
   "source": [
    "<font size = 3>First, we import the dataset we need.</font><br/>\n",
    "_The unit of wage is yuan(RMB)_<br/>\n",
    "_The unit of FA and Expenditure is RMB 100 million_<br/>\n",
    "_The unit of FDI is RMB 100 million, which is converted from USD_<br/>"
   ]
  },
  {
   "cell_type": "code",
   "execution_count": 3,
   "metadata": {},
   "outputs": [
    {
     "name": "stdout",
     "output_type": "stream",
     "text": [
      "    year           FDI      Wage        FA  Expenditure  Thirdrate  SErate\n",
      "0    1987    320793.70   1520.36   1890.78       599.44       0.27    0.58\n",
      "1    1988    671623.63   1854.54   2376.15       728.91       0.29    0.51\n",
      "2    1989    793553.43   2095.36   2167.64       859.81       0.30    0.49\n",
      "3    1990   1164578.40   2343.36   2345.40       933.36       0.31    0.48\n",
      "4    1991   1796349.14   2590.09   2926.65      1072.81       0.33    0.46\n",
      "5    1992   4006911.15   3073.18   4476.62      1159.28       0.34    0.41\n",
      "6    1993   8850166.64   3986.72   7456.39      1545.82       0.33    0.33\n",
      "7    1994  17338240.70   5339.36  10031.01      1915.42       0.34    0.28\n",
      "8    1995  18214449.60   6435.81  12226.24      2426.88       0.35    0.27\n",
      "9    1996  10563373.48   6900.00  11615.46      2917.33       0.29    0.24\n",
      "10   1997  19868925.12   7874.63  14915.44      3391.08       0.37    0.22\n",
      "11   1998  20278510.20   8924.81  16740.39      3928.67       0.38    0.40\n",
      "12   1999  20051638.00  10137.72  17603.51      4622.65       0.40    0.39\n",
      "13   2000  20303742.20  11511.73  19205.70      5286.76       0.40    0.38\n",
      "14   2001  20925893.60  13432.18  21357.94      6530.03       0.42    0.30\n",
      "15   2002  23282902.70  15224.54  24846.92      7526.77       0.43    0.31\n",
      "16   2003  27780739.10  17207.81  32727.08      8798.85       0.41    0.29\n",
      "17   2004  26410110.30  19559.63  41890.00     10460.67       0.40    0.27\n",
      "18   2005  30699865.20  22009.54  52197.04     12799.14       0.40    0.25\n",
      "19   2006  34931445.80  24517.45  60811.58     15053.57       0.40    0.23\n",
      "20   2007  39107297.20  28584.42  72787.18     18776.34       0.41    0.22\n",
      "21   2008  39703103.70  33231.18  87962.85     22914.77       0.41    0.21\n",
      "\n",
      " Data Types:\n",
      "year             int64\n",
      "FDI            float64\n",
      "Wage           float64\n",
      "FA             float64\n",
      "Expenditure    float64\n",
      "Thirdrate      float64\n",
      "SErate         float64\n",
      "dtype: object\n"
     ]
    }
   ],
   "source": [
    "data = pd.read_csv('eastnew.csv')\n",
    "print(data.head(22))\n",
    "print ('\\n Data Types:')\n",
    "print (data.dtypes)"
   ]
  },
  {
   "cell_type": "markdown",
   "metadata": {},
   "source": [
    "<font size = 3>Because our dataset consists of multiple observations over time, we need to tell python that we are working with time series.</font><br/>"
   ]
  },
  {
   "cell_type": "code",
   "execution_count": 4,
   "metadata": {
    "scrolled": true
   },
   "outputs": [
    {
     "name": "stdout",
     "output_type": "stream",
     "text": [
      "year \n",
      "1987-01-01     320793.70\n",
      "1988-01-01     671623.63\n",
      "1989-01-01     793553.43\n",
      "1990-01-01    1164578.40\n",
      "1991-01-01    1796349.14\n",
      "Name: FDI, dtype: float64\n"
     ]
    }
   ],
   "source": [
    "series = Series.from_csv('eastnew.csv', header = 0)\n",
    "print(series.head())"
   ]
  },
  {
   "cell_type": "code",
   "execution_count": 5,
   "metadata": {},
   "outputs": [
    {
     "name": "stdout",
     "output_type": "stream",
     "text": [
      "<class 'pandas.core.frame.DataFrame'>\n",
      "                    FDI      Wage        FA  Expenditure  Thirdrate  SErate\n",
      "year                                                                       \n",
      "1987-01-01    320793.70   1520.36   1890.78       599.44       0.27    0.58\n",
      "1988-01-01    671623.63   1854.54   2376.15       728.91       0.29    0.51\n",
      "1989-01-01    793553.43   2095.36   2167.64       859.81       0.30    0.49\n",
      "1990-01-01   1164578.40   2343.36   2345.40       933.36       0.31    0.48\n",
      "1991-01-01   1796349.14   2590.09   2926.65      1072.81       0.33    0.46\n",
      "1992-01-01   4006911.15   3073.18   4476.62      1159.28       0.34    0.41\n",
      "1993-01-01   8850166.64   3986.72   7456.39      1545.82       0.33    0.33\n",
      "1994-01-01  17338240.70   5339.36  10031.01      1915.42       0.34    0.28\n",
      "1995-01-01  18214449.60   6435.81  12226.24      2426.88       0.35    0.27\n",
      "1996-01-01  10563373.48   6900.00  11615.46      2917.33       0.29    0.24\n",
      "1997-01-01  19868925.12   7874.63  14915.44      3391.08       0.37    0.22\n",
      "1998-01-01  20278510.20   8924.81  16740.39      3928.67       0.38    0.40\n",
      "1999-01-01  20051638.00  10137.72  17603.51      4622.65       0.40    0.39\n",
      "2000-01-01  20303742.20  11511.73  19205.70      5286.76       0.40    0.38\n",
      "2001-01-01  20925893.60  13432.18  21357.94      6530.03       0.42    0.30\n",
      "2002-01-01  23282902.70  15224.54  24846.92      7526.77       0.43    0.31\n",
      "2003-01-01  27780739.10  17207.81  32727.08      8798.85       0.41    0.29\n",
      "2004-01-01  26410110.30  19559.63  41890.00     10460.67       0.40    0.27\n",
      "2005-01-01  30699865.20  22009.54  52197.04     12799.14       0.40    0.25\n",
      "2006-01-01  34931445.80  24517.45  60811.58     15053.57       0.40    0.23\n",
      "2007-01-01  39107297.20  28584.42  72787.18     18776.34       0.41    0.22\n",
      "2008-01-01  39703103.70  33231.18  87962.85     22914.77       0.41    0.21\n"
     ]
    }
   ],
   "source": [
    "series = read_csv('eastnew.csv', header=0, parse_dates=[0], index_col=0, squeeze=False)\n",
    "print(type(series))\n",
    "print(series.head(22))"
   ]
  },
  {
   "cell_type": "markdown",
   "metadata": {},
   "source": [
    "<font size = 3>Next, we will present the **statistical description** briefly.</font>"
   ]
  },
  {
   "cell_type": "code",
   "execution_count": 6,
   "metadata": {
    "scrolled": true
   },
   "outputs": [
    {
     "name": "stdout",
     "output_type": "stream",
     "text": [
      "132\n"
     ]
    }
   ],
   "source": [
    "print(series.size)"
   ]
  },
  {
   "cell_type": "markdown",
   "metadata": {},
   "source": [
    "Mean and Standard Deviation are as follows:"
   ]
  },
  {
   "cell_type": "code",
   "execution_count": 7,
   "metadata": {
    "scrolled": false
   },
   "outputs": [
    {
     "name": "stdout",
     "output_type": "stream",
     "text": [
      "                FDI          Wage            FA   Expenditure  Thirdrate  \\\n",
      "count  2.200000e+01     22.000000     22.000000     22.000000  22.000000   \n",
      "mean   1.759383e+07  11288.837273  23661.725909   6102.198182   0.362727   \n",
      "std    1.267192e+07   9351.201230  24601.760541   6312.127007   0.049298   \n",
      "min    3.207937e+05   1520.360000   1890.780000    599.440000   0.270000   \n",
      "25%    5.217725e+06   3301.565000   5221.562500   1255.915000   0.330000   \n",
      "50%    1.996028e+07   8399.720000  15827.915000   3659.875000   0.375000   \n",
      "75%    2.562831e+07  16711.992500  30757.040000   8480.830000   0.400000   \n",
      "max    3.970310e+07  33231.180000  87962.850000  22914.770000   0.430000   \n",
      "\n",
      "          SErate  \n",
      "count  22.000000  \n",
      "mean    0.341818  \n",
      "std     0.109093  \n",
      "min     0.210000  \n",
      "25%     0.255000  \n",
      "50%     0.305000  \n",
      "75%     0.407500  \n",
      "max     0.580000  \n"
     ]
    }
   ],
   "source": [
    "print(series.describe())"
   ]
  },
  {
   "cell_type": "markdown",
   "metadata": {},
   "source": [
    "The following Figure 1 displays that the FDI inflows into East China from 1987 - 2008. From the graph, we can see the FDI inflows dropped suddenly in the year of 1995 because the Anti-Dumping Agreement ( ADA ) from western countries was implemented in 1995.<br/>\n",
    "Besides, from the graph, we can also see that before 1992, the FDI inflow grew up slowly. After 1992, it increased rapidly because the president Deng Xiaoping put forward formally to build socialist market economic system and set up exclusive economic zone in Shenzhen."
   ]
  },
  {
   "cell_type": "code",
   "execution_count": 8,
   "metadata": {
    "scrolled": true
   },
   "outputs": [
    {
     "data": {
      "image/png": "[encoded data removed]",
      "text/plain": [
       "<matplotlib.figure.Figure at 0x1c12217a20>"
      ]
     },
     "metadata": {},
     "output_type": "display_data"
    }
   ],
   "source": [
    "series = Series.from_csv('eastnew.csv', header=0)\n",
    "pyplot.plot(series, 'y')\n",
    "plt.ylabel('FDI')\n",
    "plt.xlabel('Year')\n",
    "plt.axvline(x='1996-01-01')\n",
    "plt.title('Figure 1: FDI Inflows in China from 1987 - 2008')\n",
    "pyplot.show()"
   ]
  },
  {
   "cell_type": "markdown",
   "metadata": {},
   "source": [
    "East China is the coastal region, which is also the most advanced region in China.  **Figure 2** shows the distribution of gross regional production in the mainland of China in 2008. We clearly see that East China has the largest share of GDP. <br/>"
   ]
  },
  {
   "cell_type": "code",
   "execution_count": 9,
   "metadata": {},
   "outputs": [
    {
     "data": {
      "image/png": "[encoded data removed]",
      "text/plain": [
       "<matplotlib.figure.Figure at 0x1c1223d400>"
      ]
     },
     "metadata": {},
     "output_type": "display_data"
    }
   ],
   "source": [
    "labels = 'East','Middle','West'\n",
    "gdpshare = [191041.2,78039.2,57860.7]\n",
    "explodeTuple = (0.1, 0.0, 0.0)\n",
    "figureObject, axesObject = plt.subplots()\n",
    "axesObject.pie(gdpshare, explode=explodeTuple,\n",
    "               labels=labels,\n",
    "               autopct='%1.2f',\n",
    "               startangle=90)\n",
    "plt.axis('equal')\n",
    "plt.title('Figure 2: Gross Regional Production Distribution in 3 parts in 2008')\n",
    "plt.show()"
   ]
  },
  {
   "cell_type": "markdown",
   "metadata": {},
   "source": [
    "**Figure 3** displays the proportion of FDI in 3 parts of China."
   ]
  },
  {
   "cell_type": "code",
   "execution_count": 10,
   "metadata": {},
   "outputs": [
    {
     "data": {
      "image/png": "[encoded data removed]",
      "text/plain": [
       "<matplotlib.figure.Figure at 0x1c1a82d8d0>"
      ]
     },
     "metadata": {},
     "output_type": "display_data"
    }
   ],
   "source": [
    "labels = 'East','Middle','West'\n",
    "gdpshare = [807.26,141.39,63.53]\n",
    "explodeTuple = (0.1, 0.0, 0.0)\n",
    "figureObject, axesObject = plt.subplots()\n",
    "axesObject.pie(gdpshare, explode=explodeTuple,\n",
    "               labels=labels,\n",
    "               autopct='%1.2f',\n",
    "               startangle=90)\n",
    "plt.axis('equal')\n",
    "plt.title('Figure 3: Accumulated FDI Distribution in 3 parts')\n",
    "plt.show()"
   ]
  },
  {
   "cell_type": "markdown",
   "metadata": {},
   "source": [
    "### <b id ='b4'> Results\n",
    "The following table is the final result we get. <br/>\n",
    "**1） Government Expenditure**<br/>\n",
    "The coefficient is negatively correlated with FDI inflows, and statistically significant at a 1% level,which is utterly within our expectation. <br/>\n",
    "Le(2005)<sup>6</sup> mentions that tax is one of the leading financial sources for government expenditure, so a potential reason is that those MNEs concern that too much government spending will bring the more substantial tax to them. Besides, Larrain(2004)<sup>7</sup> addresses that the increasing governments' involvement in public sector will cause higher levels of corruption.<br/>\n",
    "**2） Tertiary Industry** <br/>\n",
    "The result is also within our expectation. The coefficient on Thirdrate is positive, and statistically significant at a 5% level, fully illustrating that the role of tertiary industry in developed coastal areas is crucial. <br/>\n",
    "**3） Marketization Level** <br/>\n",
    "The coefficient on this explanatory variable is negative and statistically significant at a 5% level, which is also within our expectation. <br/>\n",
    "After 1992, more and more MNEs tended to establish wholly foreign-owned enterprises, focusing on occupying local markets, which requires a sound market system. The regions with large proportion SOEs are not attractive to foreign investors anymore, especially in the developed coastal area.<br/>\n",
    "**4） Social Investment in Fixed Assets** <br/>\n",
    "Considering the availability of data, we use social investment in fixed assets as a proxy for the level of infrastructure.<br/>\n",
    "The empirical result indicates that the improvement of infrastructure can contribute to attracting more FDI, which is also utterly in line with our expectation.<br/>\n",
    "**5） Wage** <br/>\n",
    "Because of the reasons which we mention above, we do not make any expectations on wage.<br/>\n",
    "The coefficient of wage is positively correlated with FDI inflows, and statistically significant at a 1% level. The reason we infer is that employers are more willing to pay more to get high-quality labor. "
   ]
  },
  {
   "cell_type": "code",
   "execution_count": 11,
   "metadata": {
    "scrolled": true
   },
   "outputs": [
    {
     "name": "stdout",
     "output_type": "stream",
     "text": [
      "                            OLS Regression Results                            \n",
      "==============================================================================\n",
      "Dep. Variable:            np.log(FDI)   R-squared:                       0.986\n",
      "Model:                            OLS   Adj. R-squared:                  0.982\n",
      "Method:                 Least Squares   F-statistic:                     229.9\n",
      "Date:                Sun, 07 Jan 2018   Prob (F-statistic):           2.62e-14\n",
      "Time:                        03:45:20   Log-Likelihood:                 7.7488\n",
      "No. Observations:                  22   AIC:                            -3.498\n",
      "Df Residuals:                      16   BIC:                             3.049\n",
      "Df Model:                           5                                         \n",
      "Covariance Type:            nonrobust                                         \n",
      "=======================================================================================\n",
      "                          coef    std err          t      P>|t|      [0.025      0.975]\n",
      "---------------------------------------------------------------------------------------\n",
      "Intercept               1.3304      3.297      0.403      0.692      -5.660       8.321\n",
      "np.log(Expenditure)    -4.3554      0.554     -7.859      0.000      -5.530      -3.181\n",
      "np.log(Thirdrate)       2.4687      0.902      2.736      0.015       0.556       4.382\n",
      "np.log(SErate)         -0.7934      0.335     -2.368      0.031      -1.504      -0.083\n",
      "np.log(FA)              0.9372      0.385      2.433      0.027       0.120       1.754\n",
      "np.log(Wage)            4.8149      0.956      5.037      0.000       2.788       6.841\n",
      "==============================================================================\n",
      "Omnibus:                        0.867   Durbin-Watson:                   1.222\n",
      "Prob(Omnibus):                  0.648   Jarque-Bera (JB):                0.746\n",
      "Skew:                          -0.117   Prob(JB):                        0.689\n",
      "Kurtosis:                       2.129   Cond. No.                     1.30e+03\n",
      "==============================================================================\n",
      "\n",
      "Warnings:\n",
      "[1] Standard Errors assume that the covariance matrix of the errors is correctly specified.\n",
      "[2] The condition number is large, 1.3e+03. This might indicate that there are\n",
      "strong multicollinearity or other numerical problems.\n"
     ]
    }
   ],
   "source": [
    "data = pd.read_csv('eastnew.csv')\n",
    "\n",
    "model = ols('np.log(FDI) ~ np.log(Expenditure) + np.log(Thirdrate) + np.log(SErate) + np.log(FA) + np.log(Wage)', data).fit()\n",
    "print(model.summary())"
   ]
  },
  {
   "cell_type": "markdown",
   "metadata": {
    "collapsed": true
   },
   "source": [
    "### <b id ='b5'> Conclusion\n",
    "We carry out regression analysis in this study, through the establishment of FDI model with five selected explanatory variables.<br/>\n",
    "The primary purpose of this study is to analyze the causes of FDI inflows in East China. The empirical analysis indicates that _infrastructure_, _government expenditure_, _third industry_, _the degree of marketization_, and _wage_ are all essential influencing factors.<br/><br/>\n",
    "Thus, some policy recommendations are provided as follows:<br/>\n",
    "1. Tertiary industries have been playing an essential role in the new era, so the governments of the eastern part should focus more on increasing expenses on R&D to attract more foreign investment on tertiary industries, such as financial industry, IT and media industry. <br/>\n",
    "Besides, the investment on fixed assets should also be continued. <br/>\n",
    "2. The local governments in East China should control the government expenditure better and try to make it more transparent.<br/>"
   ]
  },
  {
   "cell_type": "markdown",
   "metadata": {},
   "source": [
    "### <b id ='b5'> Limitation\n",
    "GDP is causally interrelated with FDI inflows. GDP and FDI inflows reinforce each other, and FDI is a share of GDP. The relationship between each other is sophisticated. Due to our limited knowledge, we did not include GDP as an independent variable. "
   ]
  },
  {
   "cell_type": "markdown",
   "metadata": {
    "collapsed": true
   },
   "source": [
    "### <b id ='b6'> References <br/>\n",
    "1. 黄肖琦, & 柴敏. (2006). 新经济地理学视角下的 fdi 区位选择——基于中国省 际面板数据的实证分析. 管理世界(10), 7-13.<br/>\n",
    "2. Dunning, J. H. (1977). Trade, location of economic activity and the MNE: A search for an eclectic approach (pp. 395-418). Palgrave Macmillan UK.<br/>\n",
    "3. Yamawaki, H. (1991). Exports, and foreign distributional activities: evidence on Japanese firms in the United States. The Review of Economics and Statistics, 294-300.<br/>\n",
    "4. Coughlin, C. C., et al. (1991). \"State characteristics and the location of foreign\n",
    "direct investment within the United States.\" The review of economics and\n",
    "statistics: 675-683.<br/>\n",
    "5. Broadman, H. G. and X. Sun (1997). \"The distribution of foreign direct investment in China.\" The World Economy 20(3): 339-361.<br/>\n",
    "6. Le, M. V. and T. Suruga (2005). \"The effects of FDI and public expenditure on economic growth: From theoretical model to empirical evidence.\" GSICS Working Paper Series 2.<br/>\n",
    "7. Larraín, B. and J. Tavares (2004). \"Does foreign direct investment decrease corruption?\" Cuadernos de economía 41(123): 199-215.<br/>\n",
    "8. H.Wu （2016). \"FDI location choice in China\""
   ]
  }
 ],
 "metadata": {
  "kernelspec": {
   "display_name": "Python 3",
   "language": "python",
   "name": "python3"
  },
  "language_info": {
   "codemirror_mode": {
    "name": "ipython",
    "version": 3
   },
   "file_extension": ".py",
   "mimetype": "text/x-python",
   "name": "python",
   "nbconvert_exporter": "python",
   "pygments_lexer": "ipython3",
   "version": "3.6.3"
  }
 },
 "nbformat": 4,
 "nbformat_minor": 2
}
